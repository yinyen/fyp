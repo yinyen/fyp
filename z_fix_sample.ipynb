{
 "cells": [
  {
   "cell_type": "code",
   "execution_count": 7,
   "metadata": {},
   "outputs": [
    {
     "name": "stdout",
     "output_type": "stream",
     "text": [
      "1000\n",
      "1000\n",
      "1000\n",
      "1000\n",
      "1000\n"
     ]
    }
   ],
   "source": [
    "import os\n",
    "import glob\n",
    "import random\n",
    "import shutil\n",
    "\n",
    "sample_size = 1000\n",
    "seed = 123\n",
    "\n",
    "os.makedirs(\"all_train_300/train/\", exist_ok=True)\n",
    "for i in range(5):\n",
    "    os.makedirs(f\"all_train_300/train/{i}\", exist_ok=True)\n",
    "    random.seed(seed + i)\n",
    "    x = glob.glob(f\"all_train_300/full_train/{i}/*.jpeg\")\n",
    "    random.shuffle(x)\n",
    "    new_x = x[:sample_size]\n",
    "    if len(new_x) < sample_size:\n",
    "        k = sample_size // len(new_x)\n",
    "        h = sample_size - k*len(new_x)\n",
    "        new_x = new_x*k + x[:h]\n",
    "    print(len(new_x))\n",
    "    for j in new_x:\n",
    "        new_j = j.replace(\"full_train\", \"train\")\n",
    "        shutil.copy2(j, new_j)\n"
   ]
  },
  {
   "cell_type": "code",
   "execution_count": 11,
   "metadata": {},
   "outputs": [
    {
     "name": "stdout",
     "output_type": "stream",
     "text": [
      "1\tall_train_300/.ipynb_checkpoints\n",
      "5163\tall_train_300/val/0\n",
      "142\tall_train_300/val/4\n",
      "175\tall_train_300/val/3\n",
      "1059\tall_train_300/val/2\n",
      "489\tall_train_300/val/1\n",
      "7029\tall_train_300/val\n",
      "1001\tall_train_300/train/0\n",
      "568\tall_train_300/train/4\n",
      "700\tall_train_300/train/3\n",
      "1001\tall_train_300/train/2\n",
      "1001\tall_train_300/train/1\n",
      "4272\tall_train_300/train\n",
      "5163\tall_train_300/test/0\n",
      "142\tall_train_300/test/4\n",
      "175\tall_train_300/test/3\n",
      "1059\tall_train_300/test/2\n",
      "489\tall_train_300/test/1\n",
      "7029\tall_train_300/test\n",
      "20648\tall_train_300/full_train/0\n",
      "568\tall_train_300/full_train/4\n",
      "700\tall_train_300/full_train/3\n",
      "4235\tall_train_300/full_train/2\n",
      "1956\tall_train_300/full_train/1\n",
      "28108\tall_train_300/full_train\n",
      "46440\tall_train_300\n"
     ]
    }
   ],
   "source": [
    "!du --inodes all_train_300"
   ]
  },
  {
   "cell_type": "code",
   "execution_count": null,
   "metadata": {},
   "outputs": [],
   "source": []
  }
 ],
 "metadata": {
  "kernelspec": {
   "display_name": "Python 3",
   "language": "python",
   "name": "python3"
  },
  "language_info": {
   "codemirror_mode": {
    "name": "ipython",
    "version": 3
   },
   "file_extension": ".py",
   "mimetype": "text/x-python",
   "name": "python",
   "nbconvert_exporter": "python",
   "pygments_lexer": "ipython3",
   "version": "3.7.4"
  }
 },
 "nbformat": 4,
 "nbformat_minor": 4
}
