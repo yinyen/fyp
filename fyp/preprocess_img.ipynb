{
 "cells": [
  {
   "cell_type": "code",
   "execution_count": 8,
   "metadata": {},
   "outputs": [],
   "source": [
    "from preprocessing.image_preprocess import preprocess_eye\n",
    "from preprocessing.load import get_all_filenames, get_all_test_filenames\n",
    "import random\n",
    "import cv2\n",
    "import numpy as np\n",
    "from matplotlib.pyplot import imshow\n",
    "import os"
   ]
  },
  {
   "cell_type": "code",
   "execution_count": 9,
   "metadata": {},
   "outputs": [],
   "source": [
    "# DEBUG\n",
    "# a = cv2.imread(\"../all_train/0/492_right.jpeg\")\n",
    "# imshow(a)"
   ]
  },
  {
   "cell_type": "code",
   "execution_count": 18,
   "metadata": {},
   "outputs": [
    {
     "output_type": "stream",
     "name": "stdout",
     "text": "CPU times: user 45 ms, sys: 15.6 ms, total: 60.5 ms\nWall time: 59.7 ms\n"
    },
    {
     "output_type": "execute_result",
     "data": {
      "text/plain": "42149"
     },
     "metadata": {},
     "execution_count": 18
    }
   ],
   "source": [
    "%%time\n",
    "import glob\n",
    "\n",
    "\n",
    "os.makedirs(\"../all_train_300\", exist_ok=True)\n",
    "for s in [\"train\", \"val\", \"test\"]:\n",
    "    os.makedirs(f\"../all_train_300/{s}\", exist_ok=True)\n",
    "    for i in range(5):\n",
    "        os.makedirs(f\"../all_train_300/{s}/{i}\", exist_ok=True)\n",
    "    \n",
    "x = glob.glob(\"../all_train/*/*/*.jpeg\")\n",
    "len(x)"
   ]
  },
  {
   "cell_type": "code",
   "execution_count": 19,
   "metadata": {},
   "outputs": [
    {
     "output_type": "stream",
     "name": "stdout",
     "text": "Done: 1000 ../all_train_300/val/0/11808_left.jpeg\nDone: 2000 ../all_train_300/val/0/17356_left.jpeg\nDone: 3000 ../all_train_300/val/0/19093_right.jpeg\nDone: 4000 ../all_train_300/val/0/11431_left.jpeg\nDone: 5000 ../all_train_300/val/0/5459_right.jpeg\nDone: 6000 ../all_train_300/val/2/15636_right.jpeg\nDone: 7000 ../all_train_300/val/1/34655_right.jpeg\nDone: 8000 ../all_train_300/train/0/15192_left.jpeg\nDone: 9000 ../all_train_300/train/0/12822_left.jpeg\nDone: 10000 ../all_train_300/train/0/44217_left.jpeg\nDone: 11000 ../all_train_300/train/0/29466_left.jpeg\nDone: 12000 ../all_train_300/train/0/44007_right.jpeg\nDone: 13000 ../all_train_300/train/0/31580_right.jpeg\nError at: ../all_train/train/0/492_right.jpeg\nError ====\nDone: 14000 ../all_train_300/train/0/16946_left.jpeg\nDone: 15000 ../all_train_300/train/0/2815_left.jpeg\nDone: 16000 ../all_train_300/train/0/9307_left.jpeg\nDone: 17000 ../all_train_300/train/0/44018_left.jpeg\nDone: 18000 ../all_train_300/train/0/6760_right.jpeg\nDone: 19000 ../all_train_300/train/0/17567_left.jpeg\nDone: 20000 ../all_train_300/train/0/27232_right.jpeg\nDone: 21000 ../all_train_300/train/0/39720_right.jpeg\nDone: 22000 ../all_train_300/train/0/16028_left.jpeg\nDone: 23000 ../all_train_300/train/0/40290_left.jpeg\nDone: 24000 ../all_train_300/train/0/26236_left.jpeg\nDone: 25000 ../all_train_300/train/0/30092_left.jpeg\nDone: 26000 ../all_train_300/train/0/39013_left.jpeg\nDone: 27000 ../all_train_300/train/0/4583_right.jpeg\nDone: 28000 ../all_train_300/train/4/37332_right.jpeg\nDone: 29000 ../all_train_300/train/2/32401_right.jpeg\nDone: 30000 ../all_train_300/train/2/37588_left.jpeg\nDone: 31000 ../all_train_300/train/2/29114_right.jpeg\nDone: 32000 ../all_train_300/train/2/23110_left.jpeg\nDone: 33000 ../all_train_300/train/2/15898_right.jpeg\nDone: 34000 ../all_train_300/train/1/7505_left.jpeg\nDone: 35000 ../all_train_300/train/1/4249_right.jpeg\nDone: 36000 ../all_train_300/test/0/32727_right.jpeg\nDone: 37000 ../all_train_300/test/0/24268_right.jpeg\nDone: 38000 ../all_train_300/test/0/18605_right.jpeg\nDone: 39000 ../all_train_300/test/0/25693_left.jpeg\nDone: 40000 ../all_train_300/test/0/15162_left.jpeg\nDone: 41000 ../all_train_300/test/2/14490_left.jpeg\nDone: 42000 ../all_train_300/test/1/38391_right.jpeg\n"
    }
   ],
   "source": [
    "j = 0\n",
    "for i in x:\n",
    "    new_filename = i.replace(\"all_train\", \"all_train_300\")\n",
    "    j+=1\n",
    "    if j %1000 == 0:\n",
    "        print(\"Done:\", j, new_filename)\n",
    "    if os.path.exists(new_filename):\n",
    "        continue\n",
    "    img = preprocess_eye(i)\n",
    "    if img is None:\n",
    "        print(\"Error ====\")\n",
    "        continue\n",
    "    cv2.imwrite(filename = new_filename, img = img)"
   ]
  },
  {
   "cell_type": "code",
   "execution_count": 5,
   "metadata": {},
   "outputs": [
    {
     "output_type": "stream",
     "name": "stdout",
     "text": "CPU times: user 91 µs, sys: 0 ns, total: 91 µs\nWall time: 62.2 µs\n"
    }
   ],
   "source": [
    "# %%time\n",
    "# os.makedirs(\"../test_300\", exist_ok=True)\n",
    "    \n",
    "# x = get_all_test_filenames(\"../test\")\n",
    "# j = 0\n",
    "# for i in x:\n",
    "#     new_filename = i.replace(\"test\", \"test_300\")\n",
    "#     j+=1\n",
    "#     if j %1000 == 0:\n",
    "#         print(\"Done:\", j, new_filename)\n",
    "#     if os.path.exists(new_filename):\n",
    "#         continue\n",
    "#     img = preprocess_eye(i)\n",
    "#     if img is None:\n",
    "#         print(\"Error ====\")\n",
    "#         continue\n",
    "#     cv2.imwrite(filename = new_filename, img = img)\n",
    "    \n",
    "    "
   ]
  },
  {
   "cell_type": "code",
   "execution_count": null,
   "metadata": {},
   "outputs": [],
   "source": []
  }
 ],
 "metadata": {
  "kernelspec": {
   "display_name": "Python 3.7.6 64-bit",
   "language": "python",
   "name": "python37664bit6eeee01f3c9b4c83ba3945e5eeaf989b"
  },
  "language_info": {
   "codemirror_mode": {
    "name": "ipython",
    "version": 3
   },
   "file_extension": ".py",
   "mimetype": "text/x-python",
   "name": "python",
   "nbconvert_exporter": "python",
   "pygments_lexer": "ipython3",
   "version": "3.7.6-final"
  }
 },
 "nbformat": 4,
 "nbformat_minor": 4
}