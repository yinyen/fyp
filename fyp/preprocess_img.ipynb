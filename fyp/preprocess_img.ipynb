{
 "cells": [
  {
   "cell_type": "code",
   "execution_count": 1,
   "metadata": {},
   "outputs": [],
   "source": [
    "from preprocessing.image_preprocess import preprocess_eye\n",
    "from preprocessing.load import get_all_filenames, get_all_test_filenames\n",
    "import random\n",
    "import cv2\n",
    "import numpy as np\n",
    "from matplotlib.pyplot import imshow\n",
    "import os"
   ]
  },
  {
   "cell_type": "code",
   "execution_count": 2,
   "metadata": {},
   "outputs": [],
   "source": [
    "# DEBUG\n",
    "# a = cv2.imread(\"../all_train/0/492_right.jpeg\")\n",
    "# imshow(a)"
   ]
  },
  {
   "cell_type": "code",
   "execution_count": 5,
   "metadata": {},
   "outputs": [
    {
     "name": "stdout",
     "output_type": "stream",
     "text": [
      "Done: 1000 ../all_train_300/1/19177_left.jpeg\n",
      "Done: 2000 ../all_train_300/1/32964_left.jpeg\n",
      "Done: 3000 ../all_train_300/4/3611_right.jpeg\n",
      "Done: 4000 ../all_train_300/3/21746_right.jpeg\n",
      "Done: 5000 ../all_train_300/0/42208_right.jpeg\n",
      "Done: 6000 ../all_train_300/0/621_left.jpeg\n",
      "Done: 7000 ../all_train_300/0/22411_right.jpeg\n",
      "Done: 8000 ../all_train_300/0/25338_left.jpeg\n",
      "Done: 9000 ../all_train_300/0/26228_left.jpeg\n",
      "Done: 10000 ../all_train_300/0/19692_right.jpeg\n",
      "Done: 11000 ../all_train_300/0/21876_right.jpeg\n",
      "Done: 12000 ../all_train_300/0/24806_right.jpeg\n",
      "Done: 13000 ../all_train_300/0/22274_left.jpeg\n",
      "Done: 14000 ../all_train_300/0/740_right.jpeg\n",
      "Done: 15000 ../all_train_300/0/20004_right.jpeg\n",
      "Done: 16000 ../all_train_300/0/43305_right.jpeg\n",
      "Done: 17000 ../all_train_300/0/3865_right.jpeg\n",
      "Done: 18000 ../all_train_300/0/34256_right.jpeg\n",
      "Done: 19000 ../all_train_300/0/15817_right.jpeg\n",
      "Done: 20000 ../all_train_300/0/1055_left.jpeg\n",
      "Done: 21000 ../all_train_300/0/22652_right.jpeg\n",
      "Done: 22000 ../all_train_300/0/17207_left.jpeg\n",
      "Done: 23000 ../all_train_300/0/37675_left.jpeg\n",
      "Done: 24000 ../all_train_300/0/30363_right.jpeg\n",
      "Done: 25000 ../all_train_300/0/19410_left.jpeg\n",
      "Error at: ../all_train/0/492_right.jpeg\n",
      "Error ====\n",
      "Done: 26000 ../all_train_300/0/16848_left.jpeg\n",
      "Done: 27000 ../all_train_300/0/21525_right.jpeg\n"
     ]
    },
    {
     "name": "stderr",
     "output_type": "stream",
     "text": [
      "/home/yy/fyp/fyp/preprocessing/image_preprocess.py:8: RuntimeWarning: divide by zero encountered in double_scalars\n",
      "  s = scale * 1.0 / r\n"
     ]
    },
    {
     "name": "stdout",
     "output_type": "stream",
     "text": [
      "Done: 28000 ../all_train_300/0/36404_left.jpeg\n",
      "Done: 29000 ../all_train_300/0/34257_right.jpeg\n",
      "Done: 30000 ../all_train_300/2/5813_right.jpeg\n",
      "Done: 31000 ../all_train_300/2/7307_left.jpeg\n",
      "Done: 32000 ../all_train_300/2/43873_right.jpeg\n",
      "Done: 33000 ../all_train_300/2/39145_right.jpeg\n",
      "Done: 34000 ../all_train_300/2/15639_left.jpeg\n",
      "Done: 35000 ../all_train_300/2/17234_left.jpeg\n",
      "CPU times: user 21min 9s, sys: 45.9 s, total: 21min 54s\n",
      "Wall time: 16min 57s\n"
     ]
    }
   ],
   "source": [
    "%%time\n",
    "os.makedirs(\"../all_train_300\", exist_ok=True)\n",
    "for i in range(5):\n",
    "    os.makedirs(f\"../all_train_300/{i}\", exist_ok=True)\n",
    "    \n",
    "x = get_all_filenames(\"../all_train\")\n",
    "j = 0\n",
    "for i in x:\n",
    "    new_filename = i.replace(\"all_train\", \"all_train_300\")\n",
    "    j+=1\n",
    "    if j %1000 == 0:\n",
    "        print(\"Done:\", j, new_filename)\n",
    "    if os.path.exists(new_filename):\n",
    "        continue\n",
    "    img = preprocess_eye(i)\n",
    "    if img is None:\n",
    "        print(\"Error ====\")\n",
    "        continue\n",
    "    cv2.imwrite(filename = new_filename, img = img)\n",
    "    \n",
    "    "
   ]
  },
  {
   "cell_type": "code",
   "execution_count": 3,
   "metadata": {},
   "outputs": [
    {
     "name": "stdout",
     "output_type": "stream",
     "text": [
      "Done: 1000 ../test_300/76_left.jpeg\n",
      "Done: 2000 ../test_300/16625_left.jpeg\n",
      "Done: 3000 ../test_300/40507_right.jpeg\n"
     ]
    },
    {
     "name": "stderr",
     "output_type": "stream",
     "text": [
      "/home/yy/fyp/fyp/preprocessing/image_preprocess.py:8: RuntimeWarning: divide by zero encountered in double_scalars\n",
      "  s = scale * 1.0 / r\n"
     ]
    },
    {
     "name": "stdout",
     "output_type": "stream",
     "text": [
      "Error at: ../test/27096_right.jpeg\n",
      "Error ====\n",
      "Done: 4000 ../test_300/25742_right.jpeg\n",
      "Done: 5000 ../test_300/36051_right.jpeg\n",
      "Done: 6000 ../test_300/7301_left.jpeg\n",
      "Done: 7000 ../test_300/30268_left.jpeg\n",
      "Done: 8000 ../test_300/10855_left.jpeg\n",
      "Done: 9000 ../test_300/10026_left.jpeg\n",
      "Done: 10000 ../test_300/1909_right.jpeg\n",
      "Done: 11000 ../test_300/4717_right.jpeg\n",
      "Done: 12000 ../test_300/41509_right.jpeg\n",
      "Done: 13000 ../test_300/25714_right.jpeg\n",
      "Done: 14000 ../test_300/34943_right.jpeg\n",
      "Done: 15000 ../test_300/8952_left.jpeg\n",
      "Done: 16000 ../test_300/22335_right.jpeg\n",
      "Done: 17000 ../test_300/32786_right.jpeg\n",
      "Done: 18000 ../test_300/43242_right.jpeg\n",
      "Done: 19000 ../test_300/33765_right.jpeg\n",
      "Done: 20000 ../test_300/27172_right.jpeg\n",
      "Done: 21000 ../test_300/28725_right.jpeg\n",
      "Done: 22000 ../test_300/34444_right.jpeg\n",
      "Done: 23000 ../test_300/19341_right.jpeg\n",
      "Done: 24000 ../test_300/37270_left.jpeg\n",
      "Done: 25000 ../test_300/16453_left.jpeg\n",
      "Done: 26000 ../test_300/23723_right.jpeg\n",
      "Done: 27000 ../test_300/2395_right.jpeg\n",
      "Done: 28000 ../test_300/32108_right.jpeg\n",
      "Done: 29000 ../test_300/42490_left.jpeg\n",
      "Done: 30000 ../test_300/21748_right.jpeg\n",
      "Done: 31000 ../test_300/28958_left.jpeg\n",
      "Done: 32000 ../test_300/30410_left.jpeg\n",
      "Done: 33000 ../test_300/33759_right.jpeg\n",
      "Done: 34000 ../test_300/36086_right.jpeg\n",
      "Done: 35000 ../test_300/30876_right.jpeg\n",
      "Done: 36000 ../test_300/30434_right.jpeg\n",
      "Done: 37000 ../test_300/19943_left.jpeg\n",
      "Done: 38000 ../test_300/35019_left.jpeg\n",
      "Done: 39000 ../test_300/7233_left.jpeg\n",
      "Done: 40000 ../test_300/26310_left.jpeg\n",
      "Done: 41000 ../test_300/7717_left.jpeg\n",
      "Done: 42000 ../test_300/20548_left.jpeg\n",
      "Done: 43000 ../test_300/39633_right.jpeg\n",
      "Done: 44000 ../test_300/10633_left.jpeg\n",
      "Error at: ../test/25313_right.jpeg\n",
      "Error ====\n",
      "Done: 45000 ../test_300/14497_right.jpeg\n",
      "Done: 46000 ../test_300/37263_left.jpeg\n",
      "Done: 47000 ../test_300/15256_right.jpeg\n",
      "Done: 48000 ../test_300/28827_right.jpeg\n",
      "Done: 49000 ../test_300/18590_right.jpeg\n",
      "Done: 50000 ../test_300/38814_left.jpeg\n",
      "Done: 51000 ../test_300/25279_left.jpeg\n",
      "Done: 52000 ../test_300/39466_right.jpeg\n",
      "Done: 53000 ../test_300/12809_left.jpeg\n",
      "CPU times: user 2h 52min 12s, sys: 5min 20s, total: 2h 57min 33s\n",
      "Wall time: 2h 12min 14s\n"
     ]
    }
   ],
   "source": [
    "%%time\n",
    "os.makedirs(\"../test_300\", exist_ok=True)\n",
    "    \n",
    "x = get_all_test_filenames(\"../test\")\n",
    "j = 0\n",
    "for i in x:\n",
    "    new_filename = i.replace(\"test\", \"test_300\")\n",
    "    j+=1\n",
    "    if j %1000 == 0:\n",
    "        print(\"Done:\", j, new_filename)\n",
    "    if os.path.exists(new_filename):\n",
    "        continue\n",
    "    img = preprocess_eye(i)\n",
    "    if img is None:\n",
    "        print(\"Error ====\")\n",
    "        continue\n",
    "    cv2.imwrite(filename = new_filename, img = img)\n",
    "    \n",
    "    "
   ]
  },
  {
   "cell_type": "code",
   "execution_count": null,
   "metadata": {},
   "outputs": [],
   "source": []
  }
 ],
 "metadata": {
  "kernelspec": {
   "display_name": "Python 3",
   "language": "python",
   "name": "python3"
  },
  "language_info": {
   "codemirror_mode": {
    "name": "ipython",
    "version": 3
   },
   "file_extension": ".py",
   "mimetype": "text/x-python",
   "name": "python",
   "nbconvert_exporter": "python",
   "pygments_lexer": "ipython3",
   "version": "3.7.7"
  }
 },
 "nbformat": 4,
 "nbformat_minor": 4
}
