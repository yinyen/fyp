{
 "cells": [
  {
   "cell_type": "code",
   "execution_count": 7,
   "metadata": {},
   "outputs": [],
   "source": [
    "from preprocessing.image_preprocess import preprocess_eye\n",
    "from preprocessing.load import get_all_filenames, get_all_test_filenames\n",
    "import random\n",
    "import cv2\n",
    "import numpy as np\n",
    "from matplotlib.pyplot import imshow\n",
    "import os"
   ]
  },
  {
   "cell_type": "code",
   "execution_count": 9,
   "metadata": {},
   "outputs": [],
   "source": [
    "# DEBUG\n",
    "# a = cv2.imread(\"../all_train/0/492_right.jpeg\")\n",
    "# imshow(a)"
   ]
  },
  {
   "cell_type": "code",
   "execution_count": null,
   "metadata": {},
   "outputs": [],
   "source": [
    "# %%time\n",
    "# import glob\n",
    "\n",
    "\n",
    "# os.makedirs(\"../all_train_300\", exist_ok=True)\n",
    "# for s in [\"train\", \"val\", \"test\"]:\n",
    "#     os.makedirs(f\"../all_train_300/{s}\", exist_ok=True)\n",
    "#     for i in range(5):\n",
    "#         os.makedirs(f\"../all_train_300/{s}/{i}\", exist_ok=True)\n",
    "    \n",
    "# x = glob.glob(\"../all_train/*/*/*.jpeg\")\n",
    "# len(x)"
   ]
  },
  {
   "cell_type": "code",
   "execution_count": 2,
   "metadata": {},
   "outputs": [
    {
     "name": "stdout",
     "output_type": "stream",
     "text": [
      "CPU times: user 60.7 ms, sys: 16.5 ms, total: 77.2 ms\n",
      "Wall time: 95.9 ms\n"
     ]
    },
    {
     "data": {
      "text/plain": [
       "53576"
      ]
     },
     "execution_count": 2,
     "metadata": {},
     "output_type": "execute_result"
    }
   ],
   "source": [
    "%%time\n",
    "import glob, os\n",
    "main_test_dir = \"/media/workstation/Storage/Test/fp/test\"\n",
    "main_dir = \"/media/workstation/Storage/Test/fp/test_300\"\n",
    "os.makedirs(main_dir, exist_ok=True)\n",
    "for i in range(5):\n",
    "    os.makedirs(f\"{main_dir}/{i}\", exist_ok=True)\n",
    "x = glob.glob(f\"{main_test_dir}/*.jpeg\")\n",
    "len(x)"
   ]
  },
  {
   "cell_type": "code",
   "execution_count": 8,
   "metadata": {},
   "outputs": [
    {
     "name": "stdout",
     "output_type": "stream",
     "text": [
      "Done: 1000 /media/workstation/Storage/Test/fp/test_300/35203_left.jpeg\n",
      "Done: 2000 /media/workstation/Storage/Test/fp/test_300/1621_left.jpeg\n",
      "Done: 3000 /media/workstation/Storage/Test/fp/test_300/31198_right.jpeg\n",
      "Done: 4000 /media/workstation/Storage/Test/fp/test_300/1668_left.jpeg\n"
     ]
    },
    {
     "name": "stderr",
     "output_type": "stream",
     "text": [
      "/home/workstation/fp/fyp/fyp/preprocessing/image_preprocess.py:8: RuntimeWarning: divide by zero encountered in double_scalars\n",
      "  s = scale * 1.0 / r\n"
     ]
    },
    {
     "name": "stdout",
     "output_type": "stream",
     "text": [
      "Error at: /media/workstation/Storage/Test/fp/test/25313_right.jpeg\n",
      "Error ====\n",
      "Done: 5000 /media/workstation/Storage/Test/fp/test_300/6077_right.jpeg\n",
      "Done: 6000 /media/workstation/Storage/Test/fp/test_300/13497_right.jpeg\n",
      "Done: 7000 /media/workstation/Storage/Test/fp/test_300/1876_right.jpeg\n",
      "Done: 8000 /media/workstation/Storage/Test/fp/test_300/3152_right.jpeg\n",
      "Done: 9000 /media/workstation/Storage/Test/fp/test_300/12510_right.jpeg\n",
      "Done: 10000 /media/workstation/Storage/Test/fp/test_300/5820_right.jpeg\n",
      "Done: 11000 /media/workstation/Storage/Test/fp/test_300/9102_right.jpeg\n",
      "Done: 12000 /media/workstation/Storage/Test/fp/test_300/41982_right.jpeg\n",
      "Done: 13000 /media/workstation/Storage/Test/fp/test_300/17703_left.jpeg\n",
      "Done: 14000 /media/workstation/Storage/Test/fp/test_300/38631_left.jpeg\n",
      "Done: 15000 /media/workstation/Storage/Test/fp/test_300/20580_right.jpeg\n",
      "Done: 16000 /media/workstation/Storage/Test/fp/test_300/25590_right.jpeg\n",
      "Done: 17000 /media/workstation/Storage/Test/fp/test_300/25915_left.jpeg\n",
      "Done: 18000 /media/workstation/Storage/Test/fp/test_300/2498_left.jpeg\n",
      "Done: 19000 /media/workstation/Storage/Test/fp/test_300/36957_right.jpeg\n",
      "Done: 20000 /media/workstation/Storage/Test/fp/test_300/16263_left.jpeg\n",
      "Done: 21000 /media/workstation/Storage/Test/fp/test_300/3083_left.jpeg\n",
      "Done: 22000 /media/workstation/Storage/Test/fp/test_300/30767_left.jpeg\n",
      "Error at: /media/workstation/Storage/Test/fp/test/27096_right.jpeg\n",
      "Error ====\n",
      "Done: 23000 /media/workstation/Storage/Test/fp/test_300/28474_left.jpeg\n",
      "Done: 24000 /media/workstation/Storage/Test/fp/test_300/4280_left.jpeg\n",
      "Done: 25000 /media/workstation/Storage/Test/fp/test_300/28374_right.jpeg\n",
      "Done: 26000 /media/workstation/Storage/Test/fp/test_300/5266_left.jpeg\n",
      "Done: 27000 /media/workstation/Storage/Test/fp/test_300/32429_left.jpeg\n",
      "Done: 28000 /media/workstation/Storage/Test/fp/test_300/43385_left.jpeg\n",
      "Done: 29000 /media/workstation/Storage/Test/fp/test_300/5988_right.jpeg\n",
      "Done: 30000 /media/workstation/Storage/Test/fp/test_300/16328_right.jpeg\n",
      "Done: 31000 /media/workstation/Storage/Test/fp/test_300/35014_right.jpeg\n",
      "Done: 32000 /media/workstation/Storage/Test/fp/test_300/32843_left.jpeg\n",
      "Done: 33000 /media/workstation/Storage/Test/fp/test_300/30400_left.jpeg\n",
      "Done: 34000 /media/workstation/Storage/Test/fp/test_300/19100_left.jpeg\n",
      "Done: 35000 /media/workstation/Storage/Test/fp/test_300/40968_left.jpeg\n",
      "Done: 36000 /media/workstation/Storage/Test/fp/test_300/28996_right.jpeg\n",
      "Done: 37000 /media/workstation/Storage/Test/fp/test_300/9806_left.jpeg\n",
      "Done: 38000 /media/workstation/Storage/Test/fp/test_300/36710_left.jpeg\n",
      "Done: 39000 /media/workstation/Storage/Test/fp/test_300/21576_right.jpeg\n",
      "Done: 40000 /media/workstation/Storage/Test/fp/test_300/2690_left.jpeg\n",
      "Done: 41000 /media/workstation/Storage/Test/fp/test_300/24969_right.jpeg\n",
      "Done: 42000 /media/workstation/Storage/Test/fp/test_300/7007_right.jpeg\n",
      "Done: 43000 /media/workstation/Storage/Test/fp/test_300/34515_left.jpeg\n",
      "Done: 44000 /media/workstation/Storage/Test/fp/test_300/759_right.jpeg\n",
      "Done: 45000 /media/workstation/Storage/Test/fp/test_300/26033_right.jpeg\n",
      "Done: 46000 /media/workstation/Storage/Test/fp/test_300/42525_left.jpeg\n",
      "Done: 47000 /media/workstation/Storage/Test/fp/test_300/31331_left.jpeg\n",
      "Done: 48000 /media/workstation/Storage/Test/fp/test_300/35016_right.jpeg\n",
      "Done: 49000 /media/workstation/Storage/Test/fp/test_300/24663_right.jpeg\n",
      "Done: 50000 /media/workstation/Storage/Test/fp/test_300/39131_left.jpeg\n",
      "Done: 51000 /media/workstation/Storage/Test/fp/test_300/28495_right.jpeg\n",
      "Done: 52000 /media/workstation/Storage/Test/fp/test_300/44166_left.jpeg\n",
      "Done: 53000 /media/workstation/Storage/Test/fp/test_300/22827_left.jpeg\n"
     ]
    }
   ],
   "source": [
    "j = 0\n",
    "for i in x:\n",
    "    new_filename = i.replace(\"test\", \"test_300\")\n",
    "    j+=1\n",
    "    if j %1000 == 0:\n",
    "        print(\"Done:\", j, new_filename)\n",
    "    if os.path.exists(new_filename):\n",
    "        continue\n",
    "    img = preprocess_eye(i)\n",
    "    if img is None:\n",
    "        print(\"Error ====\")\n",
    "        continue\n",
    "    cv2.imwrite(filename = new_filename, img = img)"
   ]
  },
  {
   "cell_type": "code",
   "execution_count": 19,
   "metadata": {},
   "outputs": [
    {
     "name": "stdout",
     "output_type": "stream",
     "text": [
      "Done: 1000 ../all_train_300/val/0/11808_left.jpeg\n",
      "Done: 2000 ../all_train_300/val/0/17356_left.jpeg\n",
      "Done: 3000 ../all_train_300/val/0/19093_right.jpeg\n",
      "Done: 4000 ../all_train_300/val/0/11431_left.jpeg\n",
      "Done: 5000 ../all_train_300/val/0/5459_right.jpeg\n",
      "Done: 6000 ../all_train_300/val/2/15636_right.jpeg\n",
      "Done: 7000 ../all_train_300/val/1/34655_right.jpeg\n",
      "Done: 8000 ../all_train_300/train/0/15192_left.jpeg\n",
      "Done: 9000 ../all_train_300/train/0/12822_left.jpeg\n",
      "Done: 10000 ../all_train_300/train/0/44217_left.jpeg\n",
      "Done: 11000 ../all_train_300/train/0/29466_left.jpeg\n",
      "Done: 12000 ../all_train_300/train/0/44007_right.jpeg\n",
      "Done: 13000 ../all_train_300/train/0/31580_right.jpeg\n",
      "Error at: ../all_train/train/0/492_right.jpeg\n",
      "Error ====\n",
      "Done: 14000 ../all_train_300/train/0/16946_left.jpeg\n",
      "Done: 15000 ../all_train_300/train/0/2815_left.jpeg\n",
      "Done: 16000 ../all_train_300/train/0/9307_left.jpeg\n",
      "Done: 17000 ../all_train_300/train/0/44018_left.jpeg\n",
      "Done: 18000 ../all_train_300/train/0/6760_right.jpeg\n",
      "Done: 19000 ../all_train_300/train/0/17567_left.jpeg\n",
      "Done: 20000 ../all_train_300/train/0/27232_right.jpeg\n",
      "Done: 21000 ../all_train_300/train/0/39720_right.jpeg\n",
      "Done: 22000 ../all_train_300/train/0/16028_left.jpeg\n",
      "Done: 23000 ../all_train_300/train/0/40290_left.jpeg\n",
      "Done: 24000 ../all_train_300/train/0/26236_left.jpeg\n",
      "Done: 25000 ../all_train_300/train/0/30092_left.jpeg\n",
      "Done: 26000 ../all_train_300/train/0/39013_left.jpeg\n",
      "Done: 27000 ../all_train_300/train/0/4583_right.jpeg\n",
      "Done: 28000 ../all_train_300/train/4/37332_right.jpeg\n",
      "Done: 29000 ../all_train_300/train/2/32401_right.jpeg\n",
      "Done: 30000 ../all_train_300/train/2/37588_left.jpeg\n",
      "Done: 31000 ../all_train_300/train/2/29114_right.jpeg\n",
      "Done: 32000 ../all_train_300/train/2/23110_left.jpeg\n",
      "Done: 33000 ../all_train_300/train/2/15898_right.jpeg\n",
      "Done: 34000 ../all_train_300/train/1/7505_left.jpeg\n",
      "Done: 35000 ../all_train_300/train/1/4249_right.jpeg\n",
      "Done: 36000 ../all_train_300/test/0/32727_right.jpeg\n",
      "Done: 37000 ../all_train_300/test/0/24268_right.jpeg\n",
      "Done: 38000 ../all_train_300/test/0/18605_right.jpeg\n",
      "Done: 39000 ../all_train_300/test/0/25693_left.jpeg\n",
      "Done: 40000 ../all_train_300/test/0/15162_left.jpeg\n",
      "Done: 41000 ../all_train_300/test/2/14490_left.jpeg\n",
      "Done: 42000 ../all_train_300/test/1/38391_right.jpeg\n"
     ]
    }
   ],
   "source": [
    "# j = 0\n",
    "# for i in x:\n",
    "#     new_filename = i.replace(\"all_train\", \"all_train_300\")\n",
    "#     j+=1\n",
    "#     if j %1000 == 0:\n",
    "#         print(\"Done:\", j, new_filename)\n",
    "#     if os.path.exists(new_filename):\n",
    "#         continue\n",
    "#     img = preprocess_eye(i)\n",
    "#     if img is None:\n",
    "#         print(\"Error ====\")\n",
    "#         continue\n",
    "#     cv2.imwrite(filename = new_filename, img = img)"
   ]
  },
  {
   "cell_type": "code",
   "execution_count": 5,
   "metadata": {},
   "outputs": [
    {
     "name": "stdout",
     "output_type": "stream",
     "text": [
      "CPU times: user 91 µs, sys: 0 ns, total: 91 µs\n",
      "Wall time: 62.2 µs\n"
     ]
    }
   ],
   "source": [
    "# %%time\n",
    "# os.makedirs(\"../test_300\", exist_ok=True)\n",
    "    \n",
    "# x = get_all_test_filenames(\"../test\")\n",
    "# j = 0\n",
    "# for i in x:\n",
    "#     new_filename = i.replace(\"test\", \"test_300\")\n",
    "#     j+=1\n",
    "#     if j %1000 == 0:\n",
    "#         print(\"Done:\", j, new_filename)\n",
    "#     if os.path.exists(new_filename):\n",
    "#         continue\n",
    "#     img = preprocess_eye(i)\n",
    "#     if img is None:\n",
    "#         print(\"Error ====\")\n",
    "#         continue\n",
    "#     cv2.imwrite(filename = new_filename, img = img)\n",
    "    \n",
    "    "
   ]
  },
  {
   "cell_type": "code",
   "execution_count": null,
   "metadata": {},
   "outputs": [],
   "source": []
  }
 ],
 "metadata": {
  "kernelspec": {
   "display_name": "Python 3.7.6 64-bit",
   "language": "python",
   "name": "python37664bit6eeee01f3c9b4c83ba3945e5eeaf989b"
  },
  "language_info": {
   "codemirror_mode": {
    "name": "ipython",
    "version": 3
   },
   "file_extension": ".py",
   "mimetype": "text/x-python",
   "name": "python",
   "nbconvert_exporter": "python",
   "pygments_lexer": "ipython3",
   "version": "3.7.6"
  }
 },
 "nbformat": 4,
 "nbformat_minor": 4
}
