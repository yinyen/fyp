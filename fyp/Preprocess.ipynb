{
 "cells": [
  {
   "cell_type": "code",
   "execution_count": 1,
   "metadata": {},
   "outputs": [],
   "source": [
    "import glob\n",
    "from PIL import Image, ImageOps\n",
    "from skimage import io, transform\n",
    "from preprocessing.image_preprocess import open_image, transform_img, remove_border_1, remove_border_2, pad_to_square, resize\n",
    "from torchvision import transforms\n",
    "import matplotlib.pyplot as plt\n",
    "import numpy as np\n",
    "import cv2\n",
    "\n",
    "\n",
    "# image \n"
   ]
  },
  {
   "cell_type": "code",
   "execution_count": 2,
   "metadata": {},
   "outputs": [
    {
     "name": "stdout",
     "output_type": "stream",
     "text": [
      "CPU times: user 457 ms, sys: 56.6 ms, total: 514 ms\n",
      "Wall time: 509 ms\n"
     ]
    }
   ],
   "source": [
    "%%time\n",
    "img_name = \"../all_train/4/3412_right.jpeg\"\n",
    "size = 400\n",
    "image = image_0 = open_image(img_name)\n",
    "image = transform_img(image, remove_border_1)\n",
    "image = pad_to_square(image)\n",
    "image = resize(image, size)"
   ]
  },
  {
   "cell_type": "code",
   "execution_count": 9,
   "metadata": {},
   "outputs": [
    {
     "data": {
      "text/plain": [
       "(405, 405)"
      ]
     },
     "execution_count": 9,
     "metadata": {},
     "output_type": "execute_result"
    }
   ],
   "source": [
    "image.size"
   ]
  },
  {
   "cell_type": "code",
   "execution_count": 10,
   "metadata": {},
   "outputs": [],
   "source": [
    "\n",
    "preprocess = transforms.Compose([\n",
    "    transforms.Resize([400, 400]),\n",
    "#     transforms.CenterCrop(256),\n",
    "    transforms.ToTensor(),\n",
    "    transforms.Normalize(mean=[0.485, 0.456, 0.406], std=[0.229, 0.224, 0.225]),\n",
    "])\n",
    "input_tensor = preprocess(image)"
   ]
  },
  {
   "cell_type": "code",
   "execution_count": null,
   "metadata": {},
   "outputs": [],
   "source": []
  },
  {
   "cell_type": "code",
   "execution_count": 11,
   "metadata": {},
   "outputs": [
    {
     "name": "stderr",
     "output_type": "stream",
     "text": [
      "Clipping input data to the valid range for imshow with RGB data ([0..1] for floats or [0..255] for integers).\n"
     ]
    },
    {
     "data": {
      "text/plain": [
       "<matplotlib.image.AxesImage at 0x7fcd956bc090>"
      ]
     },
     "execution_count": 11,
     "metadata": {},
     "output_type": "execute_result"
    },
    {
     "data": {
      "image/png": "[encoded data removed]",
      "text/plain": [
       "<Figure size 432x288 with 1 Axes>"
      ]
     },
     "metadata": {
      "needs_background": "light"
     },
     "output_type": "display_data"
    }
   ],
   "source": [
    "# z = input_tensor.numpy()*255\n",
    "# z = z.reshape(\n",
    "plt.imshow(input_tensor.permute(1, 2, 0))"
   ]
  },
  {
   "cell_type": "code",
   "execution_count": 12,
   "metadata": {},
   "outputs": [
    {
     "data": {
      "text/plain": [
       "torch.Size([400, 400, 3])"
      ]
     },
     "execution_count": 12,
     "metadata": {},
     "output_type": "execute_result"
    }
   ],
   "source": [
    "input_tensor.permute(1, 2, 0).shape"
   ]
  },
  {
   "cell_type": "code",
   "execution_count": 13,
   "metadata": {},
   "outputs": [
    {
     "ename": "NameError",
     "evalue": "name 'image2' is not defined",
     "output_type": "error",
     "traceback": [
      "\u001b[0;31m---------------------------------------------------------------------------\u001b[0m",
      "\u001b[0;31mNameError\u001b[0m                                 Traceback (most recent call last)",
      "\u001b[0;32m<ipython-input-13-e2b0ae2e5c62>\u001b[0m in \u001b[0;36m<module>\u001b[0;34m\u001b[0m\n\u001b[0;32m----> 1\u001b[0;31m \u001b[0mimage2\u001b[0m\u001b[0;34m.\u001b[0m\u001b[0msize\u001b[0m\u001b[0;34m\u001b[0m\u001b[0;34m\u001b[0m\u001b[0m\n\u001b[0m",
      "\u001b[0;31mNameError\u001b[0m: name 'image2' is not defined"
     ]
    }
   ],
   "source": [
    "image2.size"
   ]
  },
  {
   "cell_type": "code",
   "execution_count": 46,
   "metadata": {},
   "outputs": [],
   "source": [
    "# !pip install opencv-python\n",
    "# !pip install scikit-image"
   ]
  },
  {
   "cell_type": "code",
   "execution_count": 47,
   "metadata": {},
   "outputs": [],
   "source": [
    "# !pip install torchvision"
   ]
  },
  {
   "cell_type": "code",
   "execution_count": null,
   "metadata": {},
   "outputs": [],
   "source": []
  },
  {
   "cell_type": "markdown",
   "metadata": {},
   "source": [
    "# Preprocess and Save"
   ]
  },
  {
   "cell_type": "code",
   "execution_count": null,
   "metadata": {},
   "outputs": [
    {
     "name": "stderr",
     "output_type": "stream",
     "text": [
      "\n",
      "  0%|          | 0/35126 [00:00<?, ?it/s]\u001b[A\n",
      "  0%|          | 5/35126 [00:00<37:42, 15.52it/s]\u001b[A\n",
      "  0%|          | 6/35126 [00:00<1:56:37,  5.02it/s]\u001b[A\n",
      "  0%|          | 7/35126 [00:01<2:47:22,  3.50it/s]\u001b[A\n",
      "  0%|          | 8/35126 [00:01<3:27:09,  2.83it/s]\u001b[A\n",
      "  0%|          | 9/35126 [00:02<3:51:54,  2.52it/s]\u001b[A\n",
      "  0%|          | 10/35126 [00:02<4:05:37,  2.38it/s]\u001b[A\n",
      "  0%|          | 11/35126 [00:03<4:59:28,  1.95it/s]\u001b[A\n",
      "  0%|          | 12/35126 [00:04<4:58:57,  1.96it/s]\u001b[A\n",
      "  0%|          | 13/35126 [00:04<4:59:56,  1.95it/s]\u001b[A\n",
      "  0%|          | 14/35126 [00:04<4:28:26,  2.18it/s]\u001b[A\n",
      "  0%|          | 15/35126 [00:05<3:49:32,  2.55it/s]\u001b[A\n",
      "  0%|          | 16/35126 [00:05<3:50:53,  2.53it/s]\u001b[A\n",
      "  0%|          | 17/35126 [00:06<4:57:57,  1.96it/s]\u001b[A\n",
      "  0%|          | 18/35126 [00:06<4:41:21,  2.08it/s]\u001b[A\n",
      "  0%|          | 19/35126 [00:06<3:57:55,  2.46it/s]\u001b[A\n",
      "  0%|          | 20/35126 [00:07<3:27:20,  2.82it/s]\u001b[A\n",
      "  0%|          | 21/35126 [00:07<4:36:36,  2.12it/s]\u001b[A\n",
      "  0%|          | 22/35126 [00:08<3:53:20,  2.51it/s]\u001b[A\n",
      "  0%|          | 23/35126 [00:08<4:11:08,  2.33it/s]\u001b[A\n",
      "  0%|          | 24/35126 [00:09<4:24:50,  2.21it/s]\u001b[A\n",
      "  0%|          | 25/35126 [00:09<4:04:02,  2.40it/s]\u001b[A\n",
      "  0%|          | 26/35126 [00:09<4:17:27,  2.27it/s]\u001b[A\n",
      "  0%|          | 27/35126 [00:10<4:50:50,  2.01it/s]\u001b[A\n",
      "  0%|          | 28/35126 [00:11<5:11:39,  1.88it/s]\u001b[A\n",
      "  0%|          | 29/35126 [00:11<4:17:58,  2.27it/s]\u001b[A\n",
      "  0%|          | 30/35126 [00:12<4:54:21,  1.99it/s]\u001b[A\n",
      "  0%|          | 31/35126 [00:12<4:06:45,  2.37it/s]\u001b[A\n",
      "  0%|          | 32/35126 [00:12<4:16:24,  2.28it/s]\u001b[A\n",
      "  0%|          | 33/35126 [00:13<5:19:10,  1.83it/s]\u001b[A\n",
      "  0%|          | 34/35126 [00:13<4:42:24,  2.07it/s]\u001b[A\n",
      "  0%|          | 35/35126 [00:14<5:36:56,  1.74it/s]\u001b[A\n",
      "  0%|          | 36/35126 [00:14<4:38:20,  2.10it/s]\u001b[A\n",
      "  0%|          | 37/35126 [00:15<4:47:14,  2.04it/s]\u001b[A\n",
      "  0%|          | 38/35126 [00:15<4:02:45,  2.41it/s]\u001b[A\n",
      "  0%|          | 39/35126 [00:16<4:20:35,  2.24it/s]\u001b[A\n",
      "  0%|          | 40/35126 [00:16<3:42:53,  2.62it/s]\u001b[A\n",
      "  0%|          | 41/35126 [00:16<3:17:14,  2.96it/s]\u001b[A\n",
      "  0%|          | 42/35126 [00:17<3:29:20,  2.79it/s]\u001b[A\n",
      "  0%|          | 43/35126 [00:17<3:24:45,  2.86it/s]\u001b[A\n",
      "  0%|          | 44/35126 [00:17<3:50:13,  2.54it/s]\u001b[A\n",
      "  0%|          | 45/35126 [00:18<3:42:26,  2.63it/s]\u001b[A\n",
      "  0%|          | 46/35126 [00:18<3:46:07,  2.59it/s]\u001b[A\n",
      "  0%|          | 47/35126 [00:19<4:04:44,  2.39it/s]\u001b[A\n",
      "  0%|          | 48/35126 [00:19<4:15:45,  2.29it/s]\u001b[A\n",
      "  0%|          | 49/35126 [00:20<4:28:05,  2.18it/s]\u001b[A\n",
      "  0%|          | 50/35126 [00:20<3:48:19,  2.56it/s]\u001b[A\n",
      "  0%|          | 51/35126 [00:20<3:21:41,  2.90it/s]\u001b[A\n",
      "  0%|          | 52/35126 [00:21<3:47:43,  2.57it/s]\u001b[A\n",
      "  0%|          | 53/35126 [00:21<4:07:00,  2.37it/s]\u001b[A\n",
      "  0%|          | 54/35126 [00:21<3:34:04,  2.73it/s]\u001b[A\n",
      "  0%|          | 55/35126 [00:22<3:41:05,  2.64it/s]\u001b[A\n",
      "  0%|          | 56/35126 [00:22<4:04:55,  2.39it/s]\u001b[A\n",
      "  0%|          | 57/35126 [00:23<4:45:18,  2.05it/s]\u001b[A\n",
      "  0%|          | 58/35126 [00:23<4:48:47,  2.02it/s]\u001b[A\n",
      "  0%|          | 59/35126 [00:24<4:02:17,  2.41it/s]\u001b[A\n",
      "  0%|          | 60/35126 [00:24<3:29:35,  2.79it/s]\u001b[A\n",
      "  0%|          | 61/35126 [00:24<3:07:13,  3.12it/s]\u001b[A\n",
      "  0%|          | 62/35126 [00:25<3:08:19,  3.10it/s]\u001b[A\n",
      "  0%|          | 63/35126 [00:25<2:53:38,  3.37it/s]\u001b[A\n",
      "  0%|          | 64/35126 [00:25<2:42:27,  3.60it/s]\u001b[A\n",
      "  0%|          | 65/35126 [00:25<3:24:32,  2.86it/s]\u001b[A\n",
      "  0%|          | 66/35126 [00:26<3:03:17,  3.19it/s]\u001b[A\n",
      "  0%|          | 67/35126 [00:26<4:19:22,  2.25it/s]\u001b[A\n",
      "  0%|          | 68/35126 [00:27<5:22:21,  1.81it/s]\u001b[A"
     ]
    },
    {
     "name": "stdout",
     "output_type": "stream",
     "text": [
      "Error on func! <function remove_border_1 at 0x7f070b2a1cb0>\n",
      "Error on func! <function remove_border_1 at 0x7f070b2a1cb0>\n"
     ]
    },
    {
     "name": "stderr",
     "output_type": "stream",
     "text": [
      "\n",
      "  0%|          | 69/35126 [00:27<4:19:32,  2.25it/s]\u001b[A\n",
      "  0%|          | 70/35126 [00:28<5:20:51,  1.82it/s]\u001b[A\n",
      "  0%|          | 71/35126 [00:28<4:26:00,  2.20it/s]\u001b[A\n",
      "  0%|          | 72/35126 [00:29<3:53:16,  2.50it/s]\u001b[A\n",
      "  0%|          | 73/35126 [00:30<5:04:18,  1.92it/s]\u001b[A\n",
      "  0%|          | 74/35126 [00:30<4:58:16,  1.96it/s]\u001b[A\n",
      "  0%|          | 75/35126 [00:30<4:44:39,  2.05it/s]\u001b[A\n",
      "  0%|          | 76/35126 [00:31<4:00:34,  2.43it/s]\u001b[A"
     ]
    }
   ],
   "source": [
    "import glob, os\n",
    "from tqdm import tqdm\n",
    "from preprocessing.image_preprocess import open_image, load_transform_image\n",
    "size = 400\n",
    "data_dir = \"../all_train\"\n",
    "out_dir = \"../new_all_train_400\"\n",
    "\n",
    "os.makedirs(out_dir, exist_ok=True)\n",
    "for i in range(5):\n",
    "    os.makedirs(f\"{out_dir}/{i}\", exist_ok=True)\n",
    "x = glob.glob(f\"{data_dir}/*/*.jpeg\")\n",
    "\n",
    "j = 0\n",
    "for ix, i in tqdm(enumerate(x), total=len(x)):\n",
    "    old_filename = i\n",
    "    new_filename = i.replace(\"all_train\", \"new_all_train_400\")\n",
    "    j+=1\n",
    "    if j %1000 == 0:\n",
    "        print(\"Done:\", j, new_filename)\n",
    "    if os.path.exists(new_filename):\n",
    "        continue\n",
    "    img = load_transform_image(i,size)\n",
    "    if img is None:\n",
    "        print(\"Error ====\")\n",
    "        continue\n",
    "    img.save(new_filename)\n",
    "#     raise Exception()"
   ]
  },
  {
   "cell_type": "code",
   "execution_count": null,
   "metadata": {},
   "outputs": [],
   "source": []
  }
 ],
 "metadata": {
  "kernelspec": {
   "display_name": "Python 3",
   "language": "python",
   "name": "python3"
  },
  "language_info": {
   "codemirror_mode": {
    "name": "ipython",
    "version": 3
   },
   "file_extension": ".py",
   "mimetype": "text/x-python",
   "name": "python",
   "nbconvert_exporter": "python",
   "pygments_lexer": "ipython3",
   "version": "3.7.7"
  }
 },
 "nbformat": 4,
 "nbformat_minor": 4
}
