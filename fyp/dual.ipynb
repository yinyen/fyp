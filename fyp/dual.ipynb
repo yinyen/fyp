{
 "cells": [
  {
   "cell_type": "code",
   "execution_count": 1,
   "metadata": {},
   "outputs": [],
   "source": [
    "from pytorch.dual_data_helper import create_dual_label_df, split_dual_df, initialize_dual_gen\n",
    "import pandas as pd\n"
   ]
  },
  {
   "cell_type": "code",
   "execution_count": 2,
   "metadata": {},
   "outputs": [],
   "source": [
    "df = create_dual_label_df()"
   ]
  },
  {
   "cell_type": "code",
   "execution_count": 3,
   "metadata": {},
   "outputs": [
    {
     "data": {
      "text/plain": [
       "(17563, 7)"
      ]
     },
     "execution_count": 3,
     "metadata": {},
     "output_type": "execute_result"
    }
   ],
   "source": [
    "df.shape"
   ]
  },
  {
   "cell_type": "code",
   "execution_count": 4,
   "metadata": {},
   "outputs": [
    {
     "data": {
      "text/plain": [
       "((14050, 7), (3513, 7))"
      ]
     },
     "execution_count": 4,
     "metadata": {},
     "output_type": "execute_result"
    }
   ],
   "source": [
    "d1, d2 = split_dual_df(df, p = 0.2, seed = 123)\n",
    "d1.shape, d2.shape"
   ]
  },
  {
   "cell_type": "code",
   "execution_count": 5,
   "metadata": {},
   "outputs": [],
   "source": [
    "size = 400\n",
    "batch_size = 6\n",
    "reweight_sample = 1\n",
    "reweight_sample_factor = 1\n",
    "workers = 8\n",
    "train_gen, val_gen = initialize_dual_gen(d1, d2, size, batch_size, reweight_sample, reweight_sample_factor, workers)"
   ]
  },
  {
   "cell_type": "code",
   "execution_count": 6,
   "metadata": {},
   "outputs": [],
   "source": [
    "import matplotlib.pyplot as plt"
   ]
  },
  {
   "cell_type": "code",
   "execution_count": 8,
   "metadata": {},
   "outputs": [],
   "source": [
    "t = []\n",
    "a1 = []\n",
    "a2 = []\n",
    "for i, (x1, x2, i1, i2, target) in enumerate(val_gen):\n",
    "#     plt.subplot((121))\n",
    "#     plt.imshow(x1[0].numpy().transpose(1,2,0))\n",
    "#     plt.subplot((122))\n",
    "#     plt.imshow(x2[0].numpy().transpose(1,2,0))\n",
    "    a1.append(i1)\n",
    "    a2.append(i2)\n",
    "    t.append(target)\n",
    "    "
   ]
  },
  {
   "cell_type": "code",
   "execution_count": null,
   "metadata": {},
   "outputs": [],
   "source": []
  },
  {
   "cell_type": "code",
   "execution_count": 38,
   "metadata": {},
   "outputs": [
    {
     "data": {
      "text/plain": [
       "(1171, 585)"
      ]
     },
     "execution_count": 38,
     "metadata": {},
     "output_type": "execute_result"
    }
   ],
   "source": [
    "len(t), len(t)//2"
   ]
  },
  {
   "cell_type": "code",
   "execution_count": null,
   "metadata": {},
   "outputs": [],
   "source": []
  },
  {
   "cell_type": "code",
   "execution_count": 56,
   "metadata": {},
   "outputs": [
    {
     "data": {
      "text/plain": [
       "(6,)"
      ]
     },
     "execution_count": 56,
     "metadata": {},
     "output_type": "execute_result"
    }
   ],
   "source": [
    "[j.numpy().shape for j in t][-1]"
   ]
  },
  {
   "cell_type": "code",
   "execution_count": 16,
   "metadata": {},
   "outputs": [
    {
     "data": {
      "text/plain": [
       "(tensor([0, 0, 0, 2, 2, 0]), tensor([2, 2, 0, 0, 0, 0]))"
      ]
     },
     "execution_count": 16,
     "metadata": {},
     "output_type": "execute_result"
    }
   ],
   "source": [
    "j = 200\n",
    "t[0+j],t[len(t)//2-1+j]\n",
    "\n",
    "# t[1],t[len(t)//2]\n",
    "# j = 10\n",
    "# k = -1\n",
    "# t[0],t[len(t)//2+j-k]"
   ]
  },
  {
   "cell_type": "code",
   "execution_count": 17,
   "metadata": {},
   "outputs": [
    {
     "data": {
      "text/plain": [
       "(('../all_train_300/val/0/1093_left.jpeg',\n",
       "  '../all_train_300/full_train/0/13561_left.jpeg',\n",
       "  '../all_train_300/full_train/0/25060_left.jpeg',\n",
       "  '../all_train_300/full_train/2/6878_left.jpeg',\n",
       "  '../all_train_300/full_train/2/27889_left.jpeg',\n",
       "  '../all_train_300/full_train/0/5752_left.jpeg'),\n",
       " ('../all_train_300/full_train/2/19555_right.jpeg',\n",
       "  '../all_train_300/full_train/2/43813_right.jpeg',\n",
       "  '../all_train_300/full_train/0/22888_right.jpeg',\n",
       "  '../all_train_300/val/0/21368_right.jpeg',\n",
       "  '../all_train_300/full_train/0/21884_right.jpeg',\n",
       "  '../all_train_300/full_train/0/25377_right.jpeg'))"
      ]
     },
     "execution_count": 17,
     "metadata": {},
     "output_type": "execute_result"
    }
   ],
   "source": [
    "a1[0+j],a1[len(t)//2-1+j]\n"
   ]
  },
  {
   "cell_type": "code",
   "execution_count": 18,
   "metadata": {},
   "outputs": [
    {
     "data": {
      "text/plain": [
       "(('../all_train_300/full_train/0/1093_right.jpeg',\n",
       "  '../all_train_300/full_train/0/13561_right.jpeg',\n",
       "  '../all_train_300/full_train/0/25060_right.jpeg',\n",
       "  '../all_train_300/full_train/3/6878_right.jpeg',\n",
       "  '../all_train_300/full_train/2/27889_right.jpeg',\n",
       "  '../all_train_300/full_train/0/5752_right.jpeg'),\n",
       " ('../all_train_300/full_train/1/19555_left.jpeg',\n",
       "  '../all_train_300/full_train/2/43813_left.jpeg',\n",
       "  '../all_train_300/full_train/0/22888_left.jpeg',\n",
       "  '../all_train_300/full_train/0/21368_left.jpeg',\n",
       "  '../all_train_300/full_train/0/21884_left.jpeg',\n",
       "  '../all_train_300/full_train/0/25377_left.jpeg'))"
      ]
     },
     "execution_count": 18,
     "metadata": {},
     "output_type": "execute_result"
    }
   ],
   "source": [
    "a2[0+j],a2[len(t)//2-1+j]"
   ]
  },
  {
   "cell_type": "code",
   "execution_count": 32,
   "metadata": {},
   "outputs": [
    {
     "data": {
      "text/plain": [
       "(4684, 1171)"
      ]
     },
     "execution_count": 32,
     "metadata": {},
     "output_type": "execute_result"
    }
   ],
   "source": [
    "len(train_gen), len(val_gen)"
   ]
  },
  {
   "cell_type": "code",
   "execution_count": 14,
   "metadata": {},
   "outputs": [
    {
     "data": {
      "text/plain": [
       "1.0"
      ]
     },
     "execution_count": 14,
     "metadata": {},
     "output_type": "execute_result"
    }
   ],
   "source": [
    "1171*6/(3513*2)\n"
   ]
  },
  {
   "cell_type": "code",
   "execution_count": null,
   "metadata": {},
   "outputs": [],
   "source": []
  }
 ],
 "metadata": {
  "kernelspec": {
   "display_name": "Python 3",
   "language": "python",
   "name": "python3"
  },
  "language_info": {
   "codemirror_mode": {
    "name": "ipython",
    "version": 3
   },
   "file_extension": ".py",
   "mimetype": "text/x-python",
   "name": "python",
   "nbconvert_exporter": "python",
   "pygments_lexer": "ipython3",
   "version": "3.7.6"
  }
 },
 "nbformat": 4,
 "nbformat_minor": 4
}
