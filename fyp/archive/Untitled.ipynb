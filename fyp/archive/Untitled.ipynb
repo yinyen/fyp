{
 "cells": [
  {
   "cell_type": "code",
   "execution_count": 5,
   "metadata": {},
   "outputs": [],
   "source": [
    "import glob\n",
    "import numpy as np\n",
    "import pandas as pd\n",
    "\n",
    "from preprocessing.load import load_img, load_label, get_label_from_filename\n",
    "from cnn.xception import xception_custom\n",
    "from cnn.models import small_vgg16\n",
    "from active_learning.phase_1 import phase_1\n",
    "from active_learning.phase_2 import create_phase_2_dir, copy_images_to_train_dir, create_image_generator_for_training, create_image_generator_for_evaluation\n",
    "from active_learning.phase_2 import initialize_model, initialize_callbacks, get_class_weight\n",
    "from custom_math.kappa import quadratic_kappa\n",
    "from active_learning.load_features_layer import final_4d_layer\n",
    "from active_learning.cluster import compute_centroid_dict, compute_distance_df_per_batch\n",
    "PHASE_2 = \"Phase_2_Output_v1_test6\"\n",
    "ITERATION = 1\n",
    "\n",
    "BATCH_SIZE = 32\n",
    "EPOCH = 6\n",
    "lr = 0.0001\n",
    "NUM_CLASS=5\n",
    "IMG_HEIGHT, IMG_WIDTH = 200,200\n",
    "# full_eval_image_generator = create_image_generator_for_evaluation(\"../all_train\", IMG_WIDTH, IMG_HEIGHT, 128)\n",
    "\n",
    "# full_eval_image_generator\n"
   ]
  },
  {
   "cell_type": "code",
   "execution_count": 2,
   "metadata": {},
   "outputs": [],
   "source": [
    "import joblib"
   ]
  },
  {
   "cell_type": "code",
   "execution_count": 3,
   "metadata": {},
   "outputs": [],
   "source": [
    "features = joblib.load(\"features.pkl\")\n",
    "filenames = joblib.load(\"filenames.pkl\")\n",
    "labels = joblib.load(\"labels.pkl\")"
   ]
  },
  {
   "cell_type": "code",
   "execution_count": 6,
   "metadata": {},
   "outputs": [],
   "source": [
    "centroid_dict = compute_centroid_dict(features, labels)"
   ]
  },
  {
   "cell_type": "code",
   "execution_count": 7,
   "metadata": {},
   "outputs": [],
   "source": [
    "\n",
    "\n",
    "\n"
   ]
  },
  {
   "cell_type": "code",
   "execution_count": 8,
   "metadata": {},
   "outputs": [],
   "source": [
    "# centroid_dict\n",
    "from custom_math.dist import euclidean_distance\n",
    "from active_learning.cluster import compute_distance_df_per_batch\n",
    "from active_learning.load_features_layer import load_features_model, final_4d_layer\n",
    "from cnn.xception import xception_custom"
   ]
  },
  {
   "cell_type": "code",
   "execution_count": null,
   "metadata": {},
   "outputs": [],
   "source": [
    "g0 = create_image_generator_for_evaluation(\"../train/0\", IMG_WIDTH, IMG_HEIGHT, 128)\n",
    "model = xception_custom(5,200,200)\n",
    "model.load_weights(\"Phase_2_Output_v1_test5/01/Checkpoint/checkpoint.ckpt\")\n",
    "fmodel = load_features_model(model)\n",
    "def b(fmodel, g0, centroid_dict):\n",
    "    filenames = g0.filenames\n",
    "    \n",
    "    predicted_features = fmodel.predict(g0, workers = 4, use_multiprocessing=True)\n",
    "    \n",
    "    df = compute_distance_df_per_batch(predicted_features, filenames, centroid_dict)\n",
    "    "
   ]
  },
  {
   "cell_type": "code",
   "execution_count": 64,
   "metadata": {},
   "outputs": [],
   "source": [
    "# def compute_distance_df(model, data_generator, batch_size, workers = 4, use_multiprocessing = True):\n",
    "\n",
    "# import os\n",
    "# df"
   ]
  },
  {
   "cell_type": "code",
   "execution_count": 61,
   "metadata": {},
   "outputs": [
    {
     "name": "stdout",
     "output_type": "stream",
     "text": [
      "XCEPTION\n"
     ]
    }
   ],
   "source": []
  },
  {
   "cell_type": "code",
   "execution_count": 4,
   "metadata": {},
   "outputs": [],
   "source": []
  },
  {
   "cell_type": "code",
   "execution_count": 5,
   "metadata": {},
   "outputs": [
    {
     "data": {
      "text/plain": [
       "<tensorflow.python.training.tracking.util.CheckpointLoadStatus at 0x7f584833ac10>"
      ]
     },
     "execution_count": 5,
     "metadata": {},
     "output_type": "execute_result"
    }
   ],
   "source": []
  },
  {
   "cell_type": "code",
   "execution_count": 2,
   "metadata": {},
   "outputs": [
    {
     "name": "stdout",
     "output_type": "stream",
     "text": [
      "Found 3001 images belonging to 1 classes.\n"
     ]
    }
   ],
   "source": []
  },
  {
   "cell_type": "code",
   "execution_count": null,
   "metadata": {},
   "outputs": [],
   "source": []
  },
  {
   "cell_type": "code",
   "execution_count": null,
   "metadata": {},
   "outputs": [],
   "source": [
    "compute_distance_df_per_batch()"
   ]
  },
  {
   "cell_type": "code",
   "execution_count": 15,
   "metadata": {},
   "outputs": [],
   "source": []
  },
  {
   "cell_type": "code",
   "execution_count": null,
   "metadata": {},
   "outputs": [],
   "source": [
    "from multiprocessing.dummy import Pool\n",
    "compute_distance_df_per_batch()\n",
    "pool = Pool(4)\n",
    "\n",
    "result = pool.map(compute_distance_df_per_batch, [])"
   ]
  },
  {
   "cell_type": "code",
   "execution_count": null,
   "metadata": {},
   "outputs": [],
   "source": [
    "import logging\n",
    "import threading\n",
    "import time\n",
    "\n",
    "def thread_function(name):\n",
    "    logging.info(\"Thread %s: starting\", name)\n",
    "    time.sleep(2)\n",
    "    logging.info(\"Thread %s: finishing\", name)\n",
    "\n",
    "threads = list()\n",
    "for index in range(9):\n",
    "    x = threading.Thread(target=thread_function, args=(index,))\n",
    "    threads.append(x)\n",
    "    x.start()\n",
    "\n",
    "for index, thread in enumerate(threads):\n",
    "    thread.join()\n"
   ]
  },
  {
   "cell_type": "code",
   "execution_count": 36,
   "metadata": {},
   "outputs": [],
   "source": [
    "centroid_dict"
   ]
  },
  {
   "cell_type": "code",
   "execution_count": 65,
   "metadata": {},
   "outputs": [
    {
     "name": "stdout",
     "output_type": "stream",
     "text": [
      "Found 35126 images belonging to 5 classes.\n",
      "CPU times: user 23.5 s, sys: 2.78 s, total: 26.2 s\n",
      "Wall time: 26.2 s\n"
     ]
    }
   ],
   "source": [
    "%%time\n",
    "full_eval_image_generator = create_image_generator_for_evaluation(\"../all_train\", IMG_WIDTH, IMG_HEIGHT, 256)\n",
    "x,y = next(full_eval_image_generator)\n",
    "x1 = fmodel.predict(x, batch_size = 256, workers=4, use_multiprocessing=True)"
   ]
  },
  {
   "cell_type": "code",
   "execution_count": 25,
   "metadata": {},
   "outputs": [
    {
     "data": {
      "text/plain": [
       "(128, 313632)"
      ]
     },
     "execution_count": 25,
     "metadata": {},
     "output_type": "execute_result"
    }
   ],
   "source": [
    "x1.shape\n",
    "x11 = x1.reshape((x1.shape[0], -1))\n",
    "x11.shape"
   ]
  },
  {
   "cell_type": "code",
   "execution_count": 22,
   "metadata": {},
   "outputs": [
    {
     "data": {
      "text/plain": [
       "160579728"
      ]
     },
     "execution_count": 22,
     "metadata": {},
     "output_type": "execute_result"
    }
   ],
   "source": [
    "# sum of sqrt of si\n",
    "import sys \n",
    "\n",
    "sys.getsizeof(x1)"
   ]
  },
  {
   "cell_type": "code",
   "execution_count": 87,
   "metadata": {},
   "outputs": [],
   "source": [
    "full_eval_image_generator"
   ]
  },
  {
   "cell_type": "code",
   "execution_count": 84,
   "metadata": {},
   "outputs": [
    {
     "data": {
      "text/plain": [
       "<tf.Tensor 'global_max_pooling2d_1/Identity:0' shape=(None, 2048) dtype=float32>"
      ]
     },
     "execution_count": 84,
     "metadata": {},
     "output_type": "execute_result"
    }
   ],
   "source": [
    "model.layers[0].output"
   ]
  },
  {
   "cell_type": "code",
   "execution_count": 28,
   "metadata": {},
   "outputs": [
    {
     "data": {
      "text/plain": [
       "(99, 99, 32)"
      ]
     },
     "execution_count": 28,
     "metadata": {},
     "output_type": "execute_result"
    }
   ],
   "source": [
    "features[0].shape"
   ]
  },
  {
   "cell_type": "code",
   "execution_count": 18,
   "metadata": {},
   "outputs": [
    {
     "data": {
      "text/plain": [
       "(128, 99, 99, 32)"
      ]
     },
     "execution_count": 18,
     "metadata": {},
     "output_type": "execute_result"
    }
   ],
   "source": [
    "x1.shape"
   ]
  },
  {
   "cell_type": "code",
   "execution_count": null,
   "metadata": {},
   "outputs": [],
   "source": []
  }
 ],
 "metadata": {
  "kernelspec": {
   "display_name": "Python 3",
   "language": "python",
   "name": "python3"
  },
  "language_info": {
   "codemirror_mode": {
    "name": "ipython",
    "version": 3
   },
   "file_extension": ".py",
   "mimetype": "text/x-python",
   "name": "python",
   "nbconvert_exporter": "python",
   "pygments_lexer": "ipython3",
   "version": "3.7.7"
  }
 },
 "nbformat": 4,
 "nbformat_minor": 4
}
