{
 "cells": [
  {
   "cell_type": "code",
   "execution_count": 5,
   "metadata": {},
   "outputs": [],
   "source": [
    "import torch\n",
    "from pytorch.xception import SmallXception\n",
    "from pytorch.dual_xception import SmallDualXception, small_dual_xception\n",
    "\n",
    "x = torch.randn(32, 3,100, 100)\n",
    "model = small_dual_xception()\n"
   ]
  },
  {
   "cell_type": "code",
   "execution_count": 6,
   "metadata": {},
   "outputs": [],
   "source": [
    "y = model(x,x)"
   ]
  },
  {
   "cell_type": "code",
   "execution_count": 7,
   "metadata": {},
   "outputs": [
    {
     "data": {
      "text/plain": [
       "torch.Size([32, 1000])"
      ]
     },
     "execution_count": 7,
     "metadata": {},
     "output_type": "execute_result"
    }
   ],
   "source": [
    "y.shape"
   ]
  },
  {
   "cell_type": "code",
   "execution_count": 8,
   "metadata": {},
   "outputs": [
    {
     "data": {
      "text/plain": [
       "tensor([[12.7478,  0.0000,  2.5784,  ...,  5.3322,  3.3769,  0.0000],\n",
       "        [14.1379,  0.0000,  1.1904,  ...,  5.5150,  2.8353,  0.0000],\n",
       "        [13.2777,  0.0000,  2.4484,  ...,  6.5788,  3.2478,  0.5128],\n",
       "        ...,\n",
       "        [14.0939,  0.6014,  0.6609,  ...,  6.5667,  3.1961,  0.0000],\n",
       "        [12.6565,  0.0000,  3.0676,  ...,  6.1921,  3.2929,  0.0000],\n",
       "        [13.0790,  0.0000,  3.2017,  ...,  5.9294,  2.6046,  0.0000]],\n",
       "       grad_fn=<ReluBackward1>)"
      ]
     },
     "execution_count": 8,
     "metadata": {},
     "output_type": "execute_result"
    }
   ],
   "source": [
    "y"
   ]
  },
  {
   "cell_type": "code",
   "execution_count": null,
   "metadata": {},
   "outputs": [],
   "source": []
  }
 ],
 "metadata": {
  "kernelspec": {
   "display_name": "Python 3",
   "language": "python",
   "name": "python3"
  },
  "language_info": {
   "codemirror_mode": {
    "name": "ipython",
    "version": 3
   },
   "file_extension": ".py",
   "mimetype": "text/x-python",
   "name": "python",
   "nbconvert_exporter": "python",
   "pygments_lexer": "ipython3",
   "version": "3.7.4"
  }
 },
 "nbformat": 4,
 "nbformat_minor": 4
}
